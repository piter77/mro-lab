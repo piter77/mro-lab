{
 "cells": [
  {
   "cell_type": "markdown",
   "metadata": {},
   "source": [
    "# MRO: LAB 1 - Wymiarowość danych\n",
    "# Piotr Rząsa"
   ]
  },
  {
   "cell_type": "markdown",
   "metadata": {},
   "source": [
    "## Generacja / adaptacja danych:\n",
    "\n",
    "#### Własne, generowane dane:\n",
    "- 4 klasy\n",
    "- 400 elementów zbioru \n",
    "- zestaw danych o 10 wymiarach\n",
    "- zestaw danych o 2000 wymiarów\n",
    "\n",
    "#### Część zbioru MNIST:\n",
    "- 10 klas\n",
    "- 10 000 elementów zbioru\n",
    "- 784 wymiary"
   ]
  },
  {
   "cell_type": "markdown",
   "metadata": {},
   "source": [
    "### Liczenie odległości punktów dla własnego zbioru:"
   ]
  },
  {
   "cell_type": "code",
   "execution_count": 6,
   "metadata": {},
   "outputs": [
    {
     "name": "stdout",
     "output_type": "stream",
     "text": [
      "\n",
      "Liczba wymiarów: 10, metryka: cosinus\n",
      "\t0.53 - średnia odległość do innych punktów\n",
      "\t0.09 - średnia odległość najbliższego punktu\n",
      "\t0.10 - średnia odległość dwóch najbliższych punktów\n",
      "\n",
      "Liczba wymiarów: 2000, metryka: cosinus\n",
      "\t0.53 - średnia odległość do innych punktów\n",
      "\t0.31 - średnia odległość najbliższego punktu\n",
      "\t0.32 - średnia odległość dwóch najbliższych punktów\n",
      "\n",
      "Liczba wymiarów: 10, metryka: chebyshev\n",
      "\t5.79 - średnia odległość do innych punktów\n",
      "\t1.81 - średnia odległość najbliższego punktu\n",
      "\t1.92 - średnia odległość dwóch najbliższych punktów\n",
      "\n",
      "Liczba wymiarów: 2000, metryka: chebyshev\n",
      "\t10.03 - średnia odległość do innych punktów\n",
      "\t6.64 - średnia odległość najbliższego punktu\n",
      "\t6.72 - średnia odległość dwóch najbliższych punktów\n",
      "\n",
      "Liczba wymiarów: 10, metryka: minkowski p=1\n",
      "\t30.15 - średnia odległość do innych punktów\n",
      "\t8.05 - średnia odległość najbliższego punktu\n",
      "\t8.52 - średnia odległość dwóch najbliższych punktów\n",
      "\n",
      "Liczba wymiarów: 2000, metryka: minkowski p=1\n",
      "\t6036.99 - średnia odległość do innych punktów\n",
      "\t2985.90 - średnia odległość najbliższego punktu\n",
      "\t2994.91 - średnia odległość dwóch najbliższych punktów\n",
      "\n",
      "Liczba wymiarów: 10, metryka: minkowski p=2\n",
      "\t10.79 - średnia odległość do innych punktów\n",
      "\t3.23 - średnia odległość najbliższego punktu\n",
      "\t3.41 - średnia odległość dwóch najbliższych punktów\n",
      "\n",
      "Liczba wymiarów: 2000, metryka: minkowski p=2\n",
      "\t154.66 - średnia odległość do innych punktów\n",
      "\t85.70 - średnia odległość najbliższego punktu\n",
      "\t85.94 - średnia odległość dwóch najbliższych punktów\n",
      "\n",
      "Liczba wymiarów: 10, metryka: minkowski p=4\n",
      "\t7.05 - średnia odległość do innych punktów\n",
      "\t2.23 - średnia odległość najbliższego punktu\n",
      "\t2.35 - średnia odległość dwóch najbliższych punktów\n",
      "\n",
      "Liczba wymiarów: 2000, metryka: minkowski p=4\n",
      "\t27.74 - średnia odległość do innych punktów\n",
      "\t17.31 - średnia odległość najbliższego punktu\n",
      "\t17.38 - średnia odległość dwóch najbliższych punktów\n"
     ]
    }
   ],
   "source": [
    "gen_dim(data10, 10, 'cosinus')\n",
    "gen_dim(data2000, 2000, 'cosinus')\n",
    "gen_dim(data10, 10, 'chebyshev')\n",
    "gen_dim(data2000, 2000, 'chebyshev')\n",
    "gen_dim(data10, 10, 'minkowski', 1)\n",
    "gen_dim(data2000, 2000, 'minkowski', 1)\n",
    "gen_dim(data10, 10, 'minkowski', 2)\n",
    "gen_dim(data2000, 2000, 'minkowski', 2)\n",
    "gen_dim(data10, 10, 'minkowski', 4)\n",
    "gen_dim(data2000, 2000, 'minkowski', 4)"
   ]
  },
  {
   "cell_type": "markdown",
   "metadata": {},
   "source": [
    "### Liczenie odległości punktów dla MNIST:"
   ]
  },
  {
   "cell_type": "code",
   "execution_count": 8,
   "metadata": {},
   "outputs": [
    {
     "name": "stdout",
     "output_type": "stream",
     "text": [
      "\n",
      "Liczba wymiarów: 784, metryka: cosinus\n",
      "\t0.59 - średnia odległość do innych punktów\n",
      "\t0.12 - średnia odległość najbliższego punktu\n",
      "\t0.13 - średnia odległość dwóch najbliższych punktów\n",
      "\n",
      "Liczba wymiarów: 784, metryka: chebyshev\n",
      "\t1.00 - średnia odległość do innych punktów\n",
      "\t0.93 - średnia odległość najbliższego punktu\n",
      "\t0.94 - średnia odległość dwóch najbliższych punktów\n",
      "\n",
      "Liczba wymiarów: 784, metryka: minkowski p=1\n",
      "\t130.82 - średnia odległość do innych punktów\n",
      "\t41.91 - średnia odległość najbliższego punktu\n",
      "\t43.81 - średnia odległość dwóch najbliższych punktów\n",
      "\n",
      "Liczba wymiarów: 784, metryka: minkowski p=2\n",
      "\t10.18 - średnia odległość do innych punktów\n",
      "\t4.62 - średnia odległość najbliższego punktu\n",
      "\t4.78 - średnia odległość dwóch najbliższych punktów\n"
     ]
    },
    {
     "ename": "KeyboardInterrupt",
     "evalue": "",
     "output_type": "error",
     "traceback": [
      "\u001b[0;31m---------------------------------------------------------------------------\u001b[0m",
      "\u001b[0;31mKeyboardInterrupt\u001b[0m                         Traceback (most recent call last)",
      "\u001b[0;32m<ipython-input-8-67a615566a16>\u001b[0m in \u001b[0;36m<module>\u001b[0;34m()\u001b[0m\n\u001b[1;32m      3\u001b[0m \u001b[0mgen_dim\u001b[0m\u001b[0;34m(\u001b[0m\u001b[0mmn\u001b[0m\u001b[0;34m,\u001b[0m \u001b[0mmn\u001b[0m\u001b[0;34m.\u001b[0m\u001b[0mshape\u001b[0m\u001b[0;34m[\u001b[0m\u001b[0;36m1\u001b[0m\u001b[0;34m]\u001b[0m\u001b[0;34m,\u001b[0m \u001b[0;34m'minkowski'\u001b[0m\u001b[0;34m,\u001b[0m \u001b[0;36m1\u001b[0m\u001b[0;34m)\u001b[0m\u001b[0;34m\u001b[0m\u001b[0m\n\u001b[1;32m      4\u001b[0m \u001b[0mgen_dim\u001b[0m\u001b[0;34m(\u001b[0m\u001b[0mmn\u001b[0m\u001b[0;34m,\u001b[0m \u001b[0mmn\u001b[0m\u001b[0;34m.\u001b[0m\u001b[0mshape\u001b[0m\u001b[0;34m[\u001b[0m\u001b[0;36m1\u001b[0m\u001b[0;34m]\u001b[0m\u001b[0;34m,\u001b[0m \u001b[0;34m'minkowski'\u001b[0m\u001b[0;34m,\u001b[0m \u001b[0;36m2\u001b[0m\u001b[0;34m)\u001b[0m\u001b[0;34m\u001b[0m\u001b[0m\n\u001b[0;32m----> 5\u001b[0;31m \u001b[0mgen_dim\u001b[0m\u001b[0;34m(\u001b[0m\u001b[0mmn\u001b[0m\u001b[0;34m,\u001b[0m \u001b[0mmn\u001b[0m\u001b[0;34m.\u001b[0m\u001b[0mshape\u001b[0m\u001b[0;34m[\u001b[0m\u001b[0;36m1\u001b[0m\u001b[0;34m]\u001b[0m\u001b[0;34m,\u001b[0m \u001b[0;34m'minkowski'\u001b[0m\u001b[0;34m,\u001b[0m \u001b[0;36m4\u001b[0m\u001b[0;34m)\u001b[0m\u001b[0;34m\u001b[0m\u001b[0m\n\u001b[0m",
      "\u001b[0;32m<ipython-input-4-0bd5b1b3d033>\u001b[0m in \u001b[0;36mgen_dim\u001b[0;34m(data, wymiar, metric, P)\u001b[0m\n\u001b[1;32m      9\u001b[0m     \u001b[0;32melse\u001b[0m\u001b[0;34m:\u001b[0m\u001b[0;34m\u001b[0m\u001b[0m\n\u001b[1;32m     10\u001b[0m         \u001b[0mdist\u001b[0m \u001b[0;34m=\u001b[0m \u001b[0mDistanceMetric\u001b[0m\u001b[0;34m.\u001b[0m\u001b[0mget_metric\u001b[0m\u001b[0;34m(\u001b[0m\u001b[0mmetric\u001b[0m\u001b[0;34m,\u001b[0m\u001b[0mp\u001b[0m\u001b[0;34m=\u001b[0m\u001b[0mP\u001b[0m\u001b[0;34m)\u001b[0m\u001b[0;34m\u001b[0m\u001b[0m\n\u001b[0;32m---> 11\u001b[0;31m         \u001b[0moriginal_dist\u001b[0m \u001b[0;34m=\u001b[0m \u001b[0mdist\u001b[0m\u001b[0;34m.\u001b[0m\u001b[0mpairwise\u001b[0m\u001b[0;34m(\u001b[0m\u001b[0mdata\u001b[0m\u001b[0;34m)\u001b[0m\u001b[0;34m\u001b[0m\u001b[0m\n\u001b[0m\u001b[1;32m     12\u001b[0m \u001b[0;34m\u001b[0m\u001b[0m\n\u001b[1;32m     13\u001b[0m     \u001b[0moriginal_dist\u001b[0m\u001b[0;34m.\u001b[0m\u001b[0msort\u001b[0m\u001b[0;34m(\u001b[0m\u001b[0;34m)\u001b[0m\u001b[0;34m\u001b[0m\u001b[0m\n",
      "\u001b[0;31mKeyboardInterrupt\u001b[0m: "
     ]
    }
   ],
   "source": [
    "gen_dim(mn, mn.shape[1], 'cosinus')\n",
    "gen_dim(mn, mn.shape[1], 'chebyshev')\n",
    "gen_dim(mn, mn.shape[1], 'minkowski', 1)\n",
    "gen_dim(mn, mn.shape[1], 'minkowski', 2)"
   ]
  },
  {
   "cell_type": "markdown",
   "metadata": {},
   "source": [
    "#### Komantarz do punktu 5:\n",
    "Najbardziej odporna na przekleństwo wymiarowości jest odległość cosinusowa. Jest tak ponieważ jest ona z zakresu 1 +/- 1. Dzięki temu nawe dla ogromnego wzrostu odelgłości wielowymiarowej odległość cosinusowa pozostaje w stałym przedziale.<br>\n",
    "Najgorsze rezultaty uzyskałem dla metryki minkowskiego dla p=1."
   ]
  },
  {
   "cell_type": "markdown",
   "metadata": {},
   "source": [
    "#### Komantarz do punktu 6:\n",
    "Binaryzacja odległości moim zdaniem bardzo dobrze przeciwdziała przekleństwu wymiarowości, ponieważ dany element w stosunku do innego może się znajdować tylko w dwóch stanach - w jego otoczeniu / blisko lub daleko. "
   ]
  },
  {
   "cell_type": "markdown",
   "metadata": {},
   "source": [
    "## Lab 2 - PCA - tworzyłem referat.\n",
    "<br><br>"
   ]
  }
 ],
 "metadata": {
  "kernelspec": {
   "display_name": "Python 3",
   "language": "python",
   "name": "python3"
  },
  "language_info": {
   "codemirror_mode": {
    "name": "ipython",
    "version": 3
   },
   "file_extension": ".py",
   "mimetype": "text/x-python",
   "name": "python",
   "nbconvert_exporter": "python",
   "pygments_lexer": "ipython3",
   "version": "3.6.3"
  }
 },
 "nbformat": 4,
 "nbformat_minor": 2
}
